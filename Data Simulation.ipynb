{
 "cells": [
  {
   "cell_type": "code",
   "execution_count": 125,
   "metadata": {},
   "outputs": [],
   "source": [
    "import numpy as np\n",
    "import cv2\n",
    "import random\n",
    "import os"
   ]
  },
  {
   "cell_type": "markdown",
   "metadata": {},
   "source": [
    "# Parallel Lines"
   ]
  },
  {
   "cell_type": "code",
   "execution_count": 126,
   "metadata": {},
   "outputs": [],
   "source": [
    "w = 512\n",
    "h = 512\n",
    "max_thick = 4\n",
    "image_resolution = (w, h)\n",
    "Num_lines = 2000\n"
   ]
  },
  {
   "cell_type": "code",
   "execution_count": 127,
   "metadata": {},
   "outputs": [],
   "source": [
    "dir = 'C:\\Penn State\\Projects\\Shape Reconstruction\\Parallel_lines'"
   ]
  },
  {
   "cell_type": "code",
   "execution_count": 128,
   "metadata": {},
   "outputs": [],
   "source": [
    "def rand_pt(mult=1.):\n",
    "    return (random.randrange(int(w*mult)), random.randrange(int(h*mult)))\n",
    "\n",
    "def rand_thickness():\n",
    "    return (random.randrange(1,max_thick + 1))\n",
    "\n",
    "def rand_isparallel():\n",
    "    return random.randrange(2)\n",
    "\n",
    "def rand_parallel_dist():\n",
    "    return random.randrange(50, w//2)\n",
    "\n",
    "def parallel_pt(i_w1, i_h1, i_w2, i_h2):\n",
    "    d = rand_parallel_dist()\n",
    "    isparal = rand_isparallel()\n",
    "    if isparal:\n",
    "        parallel_width = ((i_w1 + d), (i_w2 + d))\n",
    "        parallel_height = (i_h1, i_h2)\n",
    "    else:\n",
    "        parallel_height = ((i_h1 + d), (i_h2 + d))\n",
    "        parallel_width = (i_w1, i_w2)\n",
    "    return parallel_width, parallel_height"
   ]
  },
  {
   "cell_type": "code",
   "execution_count": 129,
   "metadata": {},
   "outputs": [],
   "source": [
    "for i in range(Num_lines):\n",
    "    i_w1, i_h1 = rand_pt()\n",
    "    i_w2, i_h2 = rand_pt()\n",
    "\n",
    "    parallel_width, parallel_height = parallel_pt(i_w1, i_h1, i_w2, i_h2)\n",
    "    p_w1, p_w2 = parallel_width\n",
    "    p_h1, p_h2 = parallel_height\n",
    "    \n",
    "    I= np.zeros(image_resolution)\n",
    "    cv2.line(I, (i_w1, i_h1), (i_w2, i_h2), 255, rand_thickness())\n",
    "    cv2.line(I, (p_w1, p_h1), (p_w2, p_h2), 255, rand_thickness())\n",
    "    cv2.imwrite(os.path.join(dir,'line_' + str(i) + '.png'), I)\n",
    "    "
   ]
  },
  {
   "cell_type": "markdown",
   "metadata": {},
   "source": [
    "# Circles"
   ]
  },
  {
   "cell_type": "code",
   "execution_count": 176,
   "metadata": {},
   "outputs": [],
   "source": [
    "w = 512\n",
    "h = 512\n",
    "max_thick = 4\n",
    "image_resolution = (w, h)\n",
    "num_circles = 1750\n",
    "max_radius = 128\n",
    "min_radius = 50\n",
    "dir_circle = 'C:\\Penn State\\Projects\\Shape Reconstruction\\Circle'"
   ]
  },
  {
   "cell_type": "code",
   "execution_count": 177,
   "metadata": {},
   "outputs": [],
   "source": [
    "def rad_pt(mult=1.):\n",
    "    return (random.randrange(128, w - 128), random.randrange(128, h - 128))\n",
    "\n",
    "def rad_length():\n",
    "    return (random.randrange(min_radius, max_radius))"
   ]
  },
  {
   "cell_type": "code",
   "execution_count": 178,
   "metadata": {},
   "outputs": [],
   "source": [
    "for i in range(num_circles):\n",
    "    I= np.zeros(image_resolution)\n",
    "    cv2.circle(I, rad_pt(), rad_length(), 255, rand_thickness())\n",
    "    cv2.imwrite(os.path.join(dir_circle,'circle_' + str(i) + '.png'), I)"
   ]
  },
  {
   "cell_type": "markdown",
   "metadata": {},
   "source": [
    "# Traingle"
   ]
  },
  {
   "cell_type": "code",
   "execution_count": 180,
   "metadata": {},
   "outputs": [],
   "source": [
    "w = 512\n",
    "h = 512\n",
    "max_thick = 4\n",
    "image_resolution = (w, h)\n",
    "num_triangles = 1750\n",
    "dir_triangle = 'C:\\Penn State\\Projects\\Shape Reconstruction\\Triangle'"
   ]
  },
  {
   "cell_type": "code",
   "execution_count": 181,
   "metadata": {},
   "outputs": [],
   "source": [
    "for i in range(num_triangles):\n",
    "    I= np.zeros(image_resolution)\n",
    "    d = rand_thickness()\n",
    "    w1, h1 = rand_pt()\n",
    "    w2, h2 = rand_pt()\n",
    "    w3, h3 = rand_pt()\n",
    "    cv2.line(I, (w1, h1), (w2, h2), 255, d)\n",
    "    cv2.line(I, (w2, h2), (w3, h3), 255, d)\n",
    "    cv2.line(I, (w3, h3), (w1, h1), 255, d)\n",
    "    cv2.imwrite(os.path.join(dir_triangle,'triangle_' + str(i) + '.png'), I)"
   ]
  }
 ],
 "metadata": {
  "kernelspec": {
   "display_name": "Python 3",
   "language": "python",
   "name": "python3"
  },
  "language_info": {
   "codemirror_mode": {
    "name": "ipython",
    "version": 3
   },
   "file_extension": ".py",
   "mimetype": "text/x-python",
   "name": "python",
   "nbconvert_exporter": "python",
   "pygments_lexer": "ipython3",
   "version": "3.6.6"
  }
 },
 "nbformat": 4,
 "nbformat_minor": 2
}
